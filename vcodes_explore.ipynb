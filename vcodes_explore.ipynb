{
 "cells": [
  {
   "cell_type": "code",
   "execution_count": 2,
   "metadata": {
    "collapsed": true
   },
   "outputs": [],
   "source": [
    "import pandas as pd\n",
    "import numpy as np\n",
    "%matplotlib inline"
   ]
  },
  {
   "cell_type": "code",
   "execution_count": 3,
   "metadata": {
    "collapsed": true
   },
   "outputs": [],
   "source": [
    "from pattern.en import parsetree"
   ]
  },
  {
   "cell_type": "code",
   "execution_count": 4,
   "metadata": {
    "collapsed": true
   },
   "outputs": [],
   "source": [
    "vcodes_df = pd.read_csv(\"vcodes.csv\")"
   ]
  },
  {
   "cell_type": "code",
   "execution_count": 5,
   "metadata": {
    "collapsed": false
   },
   "outputs": [
    {
     "data": {
      "text/html": [
       "<div style=\"max-height:1000px;max-width:1500px;overflow:auto;\">\n",
       "<table border=\"1\" class=\"dataframe\">\n",
       "  <thead>\n",
       "    <tr style=\"text-align: right;\">\n",
       "      <th></th>\n",
       "      <th>code</th>\n",
       "      <th>description</th>\n",
       "    </tr>\n",
       "  </thead>\n",
       "  <tbody>\n",
       "    <tr>\n",
       "      <th>0</th>\n",
       "      <td>V010</td>\n",
       "      <td>Pedestrian injured in collision with pedal cyc...</td>\n",
       "    </tr>\n",
       "    <tr>\n",
       "      <th>1</th>\n",
       "      <td>V011</td>\n",
       "      <td>Pedestrian injured in collision with pedal cyc...</td>\n",
       "    </tr>\n",
       "    <tr>\n",
       "      <th>2</th>\n",
       "      <td>V019</td>\n",
       "      <td>Pedestrian injured in collision with pedal cyc...</td>\n",
       "    </tr>\n",
       "    <tr>\n",
       "      <th>3</th>\n",
       "      <td>V020</td>\n",
       "      <td>Pedestrian injured in collision with two- or t...</td>\n",
       "    </tr>\n",
       "    <tr>\n",
       "      <th>4</th>\n",
       "      <td>V021</td>\n",
       "      <td>Pedestrian injured in collision with two- or t...</td>\n",
       "    </tr>\n",
       "  </tbody>\n",
       "</table>\n",
       "</div>"
      ],
      "text/plain": [
       "   code                                        description\n",
       "0  V010  Pedestrian injured in collision with pedal cyc...\n",
       "1  V011  Pedestrian injured in collision with pedal cyc...\n",
       "2  V019  Pedestrian injured in collision with pedal cyc...\n",
       "3  V020  Pedestrian injured in collision with two- or t...\n",
       "4  V021  Pedestrian injured in collision with two- or t..."
      ]
     },
     "execution_count": 5,
     "metadata": {},
     "output_type": "execute_result"
    }
   ],
   "source": [
    "vcodes_df.head()"
   ]
  },
  {
   "cell_type": "code",
   "execution_count": 6,
   "metadata": {
    "collapsed": false
   },
   "outputs": [],
   "source": [
    "vcodes_df['parsetree'] = vcodes_df['description'].map(parsetree)"
   ]
  },
  {
   "cell_type": "code",
   "execution_count": 7,
   "metadata": {
    "collapsed": false
   },
   "outputs": [
    {
     "data": {
      "text/html": [
       "<div style=\"max-height:1000px;max-width:1500px;overflow:auto;\">\n",
       "<table border=\"1\" class=\"dataframe\">\n",
       "  <thead>\n",
       "    <tr style=\"text-align: right;\">\n",
       "      <th></th>\n",
       "      <th>code</th>\n",
       "      <th>description</th>\n",
       "      <th>parsetree</th>\n",
       "    </tr>\n",
       "  </thead>\n",
       "  <tbody>\n",
       "    <tr>\n",
       "      <th>0</th>\n",
       "      <td>V010</td>\n",
       "      <td>Pedestrian injured in collision with pedal cyc...</td>\n",
       "      <td>[(Pedestrian, injured, in, collision, with, pe...</td>\n",
       "    </tr>\n",
       "    <tr>\n",
       "      <th>1</th>\n",
       "      <td>V011</td>\n",
       "      <td>Pedestrian injured in collision with pedal cyc...</td>\n",
       "      <td>[(Pedestrian, injured, in, collision, with, pe...</td>\n",
       "    </tr>\n",
       "    <tr>\n",
       "      <th>2</th>\n",
       "      <td>V019</td>\n",
       "      <td>Pedestrian injured in collision with pedal cyc...</td>\n",
       "      <td>[(Pedestrian, injured, in, collision, with, pe...</td>\n",
       "    </tr>\n",
       "    <tr>\n",
       "      <th>3</th>\n",
       "      <td>V020</td>\n",
       "      <td>Pedestrian injured in collision with two- or t...</td>\n",
       "      <td>[(Pedestrian, injured, in, collision, with, tw...</td>\n",
       "    </tr>\n",
       "    <tr>\n",
       "      <th>4</th>\n",
       "      <td>V021</td>\n",
       "      <td>Pedestrian injured in collision with two- or t...</td>\n",
       "      <td>[(Pedestrian, injured, in, collision, with, tw...</td>\n",
       "    </tr>\n",
       "  </tbody>\n",
       "</table>\n",
       "</div>"
      ],
      "text/plain": [
       "   code                                        description  \\\n",
       "0  V010  Pedestrian injured in collision with pedal cyc...   \n",
       "1  V011  Pedestrian injured in collision with pedal cyc...   \n",
       "2  V019  Pedestrian injured in collision with pedal cyc...   \n",
       "3  V020  Pedestrian injured in collision with two- or t...   \n",
       "4  V021  Pedestrian injured in collision with two- or t...   \n",
       "\n",
       "                                           parsetree  \n",
       "0  [(Pedestrian, injured, in, collision, with, pe...  \n",
       "1  [(Pedestrian, injured, in, collision, with, pe...  \n",
       "2  [(Pedestrian, injured, in, collision, with, pe...  \n",
       "3  [(Pedestrian, injured, in, collision, with, tw...  \n",
       "4  [(Pedestrian, injured, in, collision, with, tw...  "
      ]
     },
     "execution_count": 7,
     "metadata": {},
     "output_type": "execute_result"
    }
   ],
   "source": [
    "vcodes_df.head()"
   ]
  },
  {
   "cell_type": "code",
   "execution_count": 8,
   "metadata": {
    "collapsed": false
   },
   "outputs": [],
   "source": [
    "ptree = vcodes_df.ix[118, 2]"
   ]
  },
  {
   "cell_type": "code",
   "execution_count": 9,
   "metadata": {
    "collapsed": false
   },
   "outputs": [
    {
     "data": {
      "text/plain": [
       "'Motorcycle rider injured in collision with car, pick-up truck or van: Unspecified motorcycle rider injured in nontraffic accident'"
      ]
     },
     "execution_count": 9,
     "metadata": {},
     "output_type": "execute_result"
    }
   ],
   "source": [
    "vcodes_df.ix[118, 1]"
   ]
  },
  {
   "cell_type": "code",
   "execution_count": 10,
   "metadata": {
    "collapsed": false
   },
   "outputs": [
    {
     "name": "stdout",
     "output_type": "stream",
     "text": [
      "Chunk('Motorcycle rider/NP')\n",
      "Chunk('injured/VP')\n",
      "Chunk('in/PP')\n",
      "Chunk('collision/NP')\n",
      "Chunk('with/PP')\n",
      "Chunk('car/NP')\n",
      "Chunk('pick-up truck/NP')\n",
      "Chunk('van/NP')\n",
      "Chunk('Unspecified motorcycle rider/NP')\n",
      "Chunk('injured/VP')\n",
      "Chunk('in/PP')\n",
      "Chunk('nontraffic accident/NP')\n"
     ]
    }
   ],
   "source": [
    "for sentence in ptree:\n",
    "    for chunk in sentence.chunks:\n",
    "        print chunk"
   ]
  },
  {
   "cell_type": "code",
   "execution_count": 12,
   "metadata": {
    "collapsed": false
   },
   "outputs": [],
   "source": [
    "ptree = vcodes_df.ix[377, 2]"
   ]
  },
  {
   "cell_type": "code",
   "execution_count": 14,
   "metadata": {
    "collapsed": false
   },
   "outputs": [
    {
     "name": "stdout",
     "output_type": "stream",
     "text": [
      "Chunk('Occupant/NP')\n",
      "Chunk('of/PP')\n",
      "Chunk('pick-up truck/NP')\n",
      "Chunk('van injured/VP')\n",
      "Chunk('in/PP')\n",
      "Chunk('collision/NP')\n",
      "Chunk('with/PP')\n",
      "Chunk('car/NP')\n",
      "Chunk('pick-up truck/NP')\n",
      "Chunk('van/NP')\n",
      "Chunk('Unspecified/VP')\n",
      "Chunk('occupant/NP')\n",
      "Chunk('of/PP')\n",
      "Chunk('pick-up truck/NP')\n",
      "Chunk('van injured/VP')\n",
      "Chunk('in/PP')\n",
      "Chunk('nontraffic accident/NP')\n"
     ]
    }
   ],
   "source": [
    "for sentence in ptree:\n",
    "    for chunk in sentence.chunks:\n",
    "        print chunk"
   ]
  },
  {
   "cell_type": "code",
   "execution_count": 16,
   "metadata": {
    "collapsed": false
   },
   "outputs": [
    {
     "data": {
      "text/plain": [
       "'Occupant of pick-up truck or van injured in collision with car, pick-up truck or van: Unspecified occupant of pick-up truck or van injured in nontraffic accident'"
      ]
     },
     "execution_count": 16,
     "metadata": {},
     "output_type": "execute_result"
    }
   ],
   "source": [
    "vcodes_df.ix[377, 1]"
   ]
  },
  {
   "cell_type": "code",
   "execution_count": 23,
   "metadata": {
    "collapsed": false
   },
   "outputs": [
    {
     "name": "stdout",
     "output_type": "stream",
     "text": [
      "Chunk('Occupant/NP')\n",
      "Chunk('of/PP')\n",
      "Chunk('pick-up truck/NP')\n",
      "Chunk('van injured/VP')\n",
      "Chunk('in/PP')\n",
      "Chunk('collision/NP')\n",
      "Chunk('with/PP')\n",
      "Chunk('car/NP')\n",
      "Chunk('pick-up truck/NP')\n",
      "Chunk('van/NP')\n",
      "Chunk('Person/NP')\n",
      "Chunk('injured/VP')\n",
      "Chunk('while/PP')\n",
      "Chunk('boarding/VP')\n",
      "Chunk('alighting/ADJP')\n"
     ]
    }
   ],
   "source": [
    "for sentence in vcodes_df.ix[378, 2]:\n",
    "    for chunk in sentence.chunks:\n",
    "        print chunk"
   ]
  },
  {
   "cell_type": "code",
   "execution_count": 24,
   "metadata": {
    "collapsed": false
   },
   "outputs": [
    {
     "data": {
      "text/plain": [
       "'Occupant of pick-up truck or van injured in collision with car, pick-up truck or van: Person injured while boarding or alighting'"
      ]
     },
     "execution_count": 24,
     "metadata": {},
     "output_type": "execute_result"
    }
   ],
   "source": [
    "vcodes_df.ix[378, 1]"
   ]
  },
  {
   "cell_type": "code",
   "execution_count": 26,
   "metadata": {
    "collapsed": false
   },
   "outputs": [],
   "source": [
    "sent = ptree[0]"
   ]
  },
  {
   "cell_type": "code",
   "execution_count": 30,
   "metadata": {
    "collapsed": false
   },
   "outputs": [
    {
     "data": {
      "text/plain": [
       "array([0])"
      ]
     },
     "execution_count": 30,
     "metadata": {},
     "output_type": "execute_result"
    }
   ],
   "source": [
    "vcodes_df['parsetree'].map(lambda x: len(x[0].subjects)).unique()"
   ]
  },
  {
   "cell_type": "code",
   "execution_count": 47,
   "metadata": {
    "collapsed": false
   },
   "outputs": [],
   "source": [
    "pu_truck = sent.chunks[2]"
   ]
  },
  {
   "cell_type": "code",
   "execution_count": 48,
   "metadata": {
    "collapsed": false
   },
   "outputs": [
    {
     "data": {
      "text/plain": [
       "u'pick-up truck'"
      ]
     },
     "execution_count": 48,
     "metadata": {},
     "output_type": "execute_result"
    }
   ],
   "source": [
    "pu_truck.string"
   ]
  }
 ],
 "metadata": {
  "kernelspec": {
   "display_name": "Python 2",
   "language": "python",
   "name": "python2"
  },
  "language_info": {
   "codemirror_mode": {
    "name": "ipython",
    "version": 2
   },
   "file_extension": ".py",
   "mimetype": "text/x-python",
   "name": "python",
   "nbconvert_exporter": "python",
   "pygments_lexer": "ipython2",
   "version": "2.7.9"
  }
 },
 "nbformat": 4,
 "nbformat_minor": 0
}
