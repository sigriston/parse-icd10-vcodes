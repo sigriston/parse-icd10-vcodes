{
 "cells": [
  {
   "cell_type": "code",
   "execution_count": 1,
   "metadata": {
    "collapsed": true
   },
   "outputs": [],
   "source": [
    "import pandas as pd\n",
    "import numpy as np\n",
    "%matplotlib inline"
   ]
  },
  {
   "cell_type": "code",
   "execution_count": 2,
   "metadata": {
    "collapsed": true
   },
   "outputs": [],
   "source": [
    "import nltk"
   ]
  },
  {
   "cell_type": "code",
   "execution_count": 3,
   "metadata": {
    "collapsed": true
   },
   "outputs": [],
   "source": [
    "vcodes_df = pd.read_csv(\"vcodes.csv\")"
   ]
  },
  {
   "cell_type": "code",
   "execution_count": 4,
   "metadata": {
    "collapsed": false
   },
   "outputs": [
    {
     "data": {
      "text/html": [
       "<div style=\"max-height:1000px;max-width:1500px;overflow:auto;\">\n",
       "<table border=\"1\" class=\"dataframe\">\n",
       "  <thead>\n",
       "    <tr style=\"text-align: right;\">\n",
       "      <th></th>\n",
       "      <th>code</th>\n",
       "      <th>description</th>\n",
       "    </tr>\n",
       "  </thead>\n",
       "  <tbody>\n",
       "    <tr>\n",
       "      <th>0</th>\n",
       "      <td>V010</td>\n",
       "      <td>Pedestrian injured in collision with pedal cyc...</td>\n",
       "    </tr>\n",
       "    <tr>\n",
       "      <th>1</th>\n",
       "      <td>V011</td>\n",
       "      <td>Pedestrian injured in collision with pedal cyc...</td>\n",
       "    </tr>\n",
       "    <tr>\n",
       "      <th>2</th>\n",
       "      <td>V019</td>\n",
       "      <td>Pedestrian injured in collision with pedal cyc...</td>\n",
       "    </tr>\n",
       "    <tr>\n",
       "      <th>3</th>\n",
       "      <td>V020</td>\n",
       "      <td>Pedestrian injured in collision with two- or t...</td>\n",
       "    </tr>\n",
       "    <tr>\n",
       "      <th>4</th>\n",
       "      <td>V021</td>\n",
       "      <td>Pedestrian injured in collision with two- or t...</td>\n",
       "    </tr>\n",
       "  </tbody>\n",
       "</table>\n",
       "</div>"
      ],
      "text/plain": [
       "   code                                        description\n",
       "0  V010  Pedestrian injured in collision with pedal cyc...\n",
       "1  V011  Pedestrian injured in collision with pedal cyc...\n",
       "2  V019  Pedestrian injured in collision with pedal cyc...\n",
       "3  V020  Pedestrian injured in collision with two- or t...\n",
       "4  V021  Pedestrian injured in collision with two- or t..."
      ]
     },
     "execution_count": 4,
     "metadata": {},
     "output_type": "execute_result"
    }
   ],
   "source": [
    "vcodes_df.head()"
   ]
  },
  {
   "cell_type": "code",
   "execution_count": 5,
   "metadata": {
    "collapsed": false
   },
   "outputs": [
    {
     "data": {
      "text/plain": [
       "['Pedestrian',\n",
       " 'injured',\n",
       " 'in',\n",
       " 'collision',\n",
       " 'with',\n",
       " 'pedal',\n",
       " 'cycle',\n",
       " ':',\n",
       " 'Nontraffic',\n",
       " 'accident']"
      ]
     },
     "execution_count": 5,
     "metadata": {},
     "output_type": "execute_result"
    }
   ],
   "source": [
    "nltk.word_tokenize(vcodes_df.ix[0, 1])"
   ]
  },
  {
   "cell_type": "code",
   "execution_count": 6,
   "metadata": {
    "collapsed": true
   },
   "outputs": [],
   "source": [
    "vcodes_df['tokens'] = vcodes_df['description'].map(nltk.word_tokenize)"
   ]
  },
  {
   "cell_type": "code",
   "execution_count": 7,
   "metadata": {
    "collapsed": false
   },
   "outputs": [
    {
     "data": {
      "text/html": [
       "<div style=\"max-height:1000px;max-width:1500px;overflow:auto;\">\n",
       "<table border=\"1\" class=\"dataframe\">\n",
       "  <thead>\n",
       "    <tr style=\"text-align: right;\">\n",
       "      <th></th>\n",
       "      <th>code</th>\n",
       "      <th>description</th>\n",
       "      <th>tokens</th>\n",
       "    </tr>\n",
       "  </thead>\n",
       "  <tbody>\n",
       "    <tr>\n",
       "      <th>0</th>\n",
       "      <td>V010</td>\n",
       "      <td>Pedestrian injured in collision with pedal cyc...</td>\n",
       "      <td>[Pedestrian, injured, in, collision, with, ped...</td>\n",
       "    </tr>\n",
       "    <tr>\n",
       "      <th>1</th>\n",
       "      <td>V011</td>\n",
       "      <td>Pedestrian injured in collision with pedal cyc...</td>\n",
       "      <td>[Pedestrian, injured, in, collision, with, ped...</td>\n",
       "    </tr>\n",
       "    <tr>\n",
       "      <th>2</th>\n",
       "      <td>V019</td>\n",
       "      <td>Pedestrian injured in collision with pedal cyc...</td>\n",
       "      <td>[Pedestrian, injured, in, collision, with, ped...</td>\n",
       "    </tr>\n",
       "    <tr>\n",
       "      <th>3</th>\n",
       "      <td>V020</td>\n",
       "      <td>Pedestrian injured in collision with two- or t...</td>\n",
       "      <td>[Pedestrian, injured, in, collision, with, two...</td>\n",
       "    </tr>\n",
       "    <tr>\n",
       "      <th>4</th>\n",
       "      <td>V021</td>\n",
       "      <td>Pedestrian injured in collision with two- or t...</td>\n",
       "      <td>[Pedestrian, injured, in, collision, with, two...</td>\n",
       "    </tr>\n",
       "  </tbody>\n",
       "</table>\n",
       "</div>"
      ],
      "text/plain": [
       "   code                                        description  \\\n",
       "0  V010  Pedestrian injured in collision with pedal cyc...   \n",
       "1  V011  Pedestrian injured in collision with pedal cyc...   \n",
       "2  V019  Pedestrian injured in collision with pedal cyc...   \n",
       "3  V020  Pedestrian injured in collision with two- or t...   \n",
       "4  V021  Pedestrian injured in collision with two- or t...   \n",
       "\n",
       "                                              tokens  \n",
       "0  [Pedestrian, injured, in, collision, with, ped...  \n",
       "1  [Pedestrian, injured, in, collision, with, ped...  \n",
       "2  [Pedestrian, injured, in, collision, with, ped...  \n",
       "3  [Pedestrian, injured, in, collision, with, two...  \n",
       "4  [Pedestrian, injured, in, collision, with, two...  "
      ]
     },
     "execution_count": 7,
     "metadata": {},
     "output_type": "execute_result"
    }
   ],
   "source": [
    "vcodes_df.head()"
   ]
  },
  {
   "cell_type": "code",
   "execution_count": 8,
   "metadata": {
    "collapsed": false
   },
   "outputs": [],
   "source": [
    "vcodes_df['pos_tags'] = vcodes_df['tokens'].map(nltk.tag.pos_tag)"
   ]
  },
  {
   "cell_type": "code",
   "execution_count": 9,
   "metadata": {
    "collapsed": false
   },
   "outputs": [
    {
     "data": {
      "text/html": [
       "<div style=\"max-height:1000px;max-width:1500px;overflow:auto;\">\n",
       "<table border=\"1\" class=\"dataframe\">\n",
       "  <thead>\n",
       "    <tr style=\"text-align: right;\">\n",
       "      <th></th>\n",
       "      <th>code</th>\n",
       "      <th>description</th>\n",
       "      <th>tokens</th>\n",
       "      <th>pos_tags</th>\n",
       "    </tr>\n",
       "  </thead>\n",
       "  <tbody>\n",
       "    <tr>\n",
       "      <th>0</th>\n",
       "      <td>V010</td>\n",
       "      <td>Pedestrian injured in collision with pedal cyc...</td>\n",
       "      <td>[Pedestrian, injured, in, collision, with, ped...</td>\n",
       "      <td>[(Pedestrian, JJ), (injured, VBN), (in, IN), (...</td>\n",
       "    </tr>\n",
       "    <tr>\n",
       "      <th>1</th>\n",
       "      <td>V011</td>\n",
       "      <td>Pedestrian injured in collision with pedal cyc...</td>\n",
       "      <td>[Pedestrian, injured, in, collision, with, ped...</td>\n",
       "      <td>[(Pedestrian, JJ), (injured, VBN), (in, IN), (...</td>\n",
       "    </tr>\n",
       "    <tr>\n",
       "      <th>2</th>\n",
       "      <td>V019</td>\n",
       "      <td>Pedestrian injured in collision with pedal cyc...</td>\n",
       "      <td>[Pedestrian, injured, in, collision, with, ped...</td>\n",
       "      <td>[(Pedestrian, JJ), (injured, VBN), (in, IN), (...</td>\n",
       "    </tr>\n",
       "    <tr>\n",
       "      <th>3</th>\n",
       "      <td>V020</td>\n",
       "      <td>Pedestrian injured in collision with two- or t...</td>\n",
       "      <td>[Pedestrian, injured, in, collision, with, two...</td>\n",
       "      <td>[(Pedestrian, JJ), (injured, VBN), (in, IN), (...</td>\n",
       "    </tr>\n",
       "    <tr>\n",
       "      <th>4</th>\n",
       "      <td>V021</td>\n",
       "      <td>Pedestrian injured in collision with two- or t...</td>\n",
       "      <td>[Pedestrian, injured, in, collision, with, two...</td>\n",
       "      <td>[(Pedestrian, JJ), (injured, VBN), (in, IN), (...</td>\n",
       "    </tr>\n",
       "  </tbody>\n",
       "</table>\n",
       "</div>"
      ],
      "text/plain": [
       "   code                                        description  \\\n",
       "0  V010  Pedestrian injured in collision with pedal cyc...   \n",
       "1  V011  Pedestrian injured in collision with pedal cyc...   \n",
       "2  V019  Pedestrian injured in collision with pedal cyc...   \n",
       "3  V020  Pedestrian injured in collision with two- or t...   \n",
       "4  V021  Pedestrian injured in collision with two- or t...   \n",
       "\n",
       "                                              tokens  \\\n",
       "0  [Pedestrian, injured, in, collision, with, ped...   \n",
       "1  [Pedestrian, injured, in, collision, with, ped...   \n",
       "2  [Pedestrian, injured, in, collision, with, ped...   \n",
       "3  [Pedestrian, injured, in, collision, with, two...   \n",
       "4  [Pedestrian, injured, in, collision, with, two...   \n",
       "\n",
       "                                            pos_tags  \n",
       "0  [(Pedestrian, JJ), (injured, VBN), (in, IN), (...  \n",
       "1  [(Pedestrian, JJ), (injured, VBN), (in, IN), (...  \n",
       "2  [(Pedestrian, JJ), (injured, VBN), (in, IN), (...  \n",
       "3  [(Pedestrian, JJ), (injured, VBN), (in, IN), (...  \n",
       "4  [(Pedestrian, JJ), (injured, VBN), (in, IN), (...  "
      ]
     },
     "execution_count": 9,
     "metadata": {},
     "output_type": "execute_result"
    }
   ],
   "source": [
    "vcodes_df.head()"
   ]
  },
  {
   "cell_type": "code",
   "execution_count": 10,
   "metadata": {
    "collapsed": false
   },
   "outputs": [],
   "source": [
    "pos_tag_dic = {'word': [], 'pos_tag': []}\n",
    "for x in vcodes_df['pos_tags']:\n",
    "    for word, tag in x:\n",
    "        pos_tag_dic['word'].append(word.lower())\n",
    "        pos_tag_dic['pos_tag'].append(tag)\n",
    "words_df = pd.DataFrame(pos_tag_dic)"
   ]
  },
  {
   "cell_type": "code",
   "execution_count": 11,
   "metadata": {
    "collapsed": false
   },
   "outputs": [
    {
     "data": {
      "text/html": [
       "<div style=\"max-height:1000px;max-width:1500px;overflow:auto;\">\n",
       "<table border=\"1\" class=\"dataframe\">\n",
       "  <thead>\n",
       "    <tr style=\"text-align: right;\">\n",
       "      <th></th>\n",
       "      <th>pos_tag</th>\n",
       "      <th>word</th>\n",
       "    </tr>\n",
       "  </thead>\n",
       "  <tbody>\n",
       "    <tr>\n",
       "      <th>0</th>\n",
       "      <td>JJ</td>\n",
       "      <td>pedestrian</td>\n",
       "    </tr>\n",
       "    <tr>\n",
       "      <th>1</th>\n",
       "      <td>VBN</td>\n",
       "      <td>injured</td>\n",
       "    </tr>\n",
       "    <tr>\n",
       "      <th>2</th>\n",
       "      <td>IN</td>\n",
       "      <td>in</td>\n",
       "    </tr>\n",
       "    <tr>\n",
       "      <th>3</th>\n",
       "      <td>NN</td>\n",
       "      <td>collision</td>\n",
       "    </tr>\n",
       "    <tr>\n",
       "      <th>4</th>\n",
       "      <td>IN</td>\n",
       "      <td>with</td>\n",
       "    </tr>\n",
       "  </tbody>\n",
       "</table>\n",
       "</div>"
      ],
      "text/plain": [
       "  pos_tag        word\n",
       "0      JJ  pedestrian\n",
       "1     VBN     injured\n",
       "2      IN          in\n",
       "3      NN   collision\n",
       "4      IN        with"
      ]
     },
     "execution_count": 11,
     "metadata": {},
     "output_type": "execute_result"
    }
   ],
   "source": [
    "words_df.head()"
   ]
  },
  {
   "cell_type": "code",
   "execution_count": 12,
   "metadata": {
    "collapsed": false
   },
   "outputs": [
    {
     "data": {
      "text/plain": [
       "word                 pos_tag\n",
       "in                   IN         1217\n",
       "injured              VBD         870\n",
       "accident             NN          676\n",
       "vehicle              NN          621\n",
       "or                   CC          600\n",
       ":                    :           599\n",
       "collision            NN          568\n",
       "with                 IN          548\n",
       "of                   IN          453\n",
       "injured              VBN         373\n",
       "nontraffic           JJ          292\n",
       "traffic              JJ          292\n",
       "occupant             NNP         271\n",
       "transport            NN          258\n",
       "motor                NN          235\n",
       "person               NNP         194\n",
       "unspecified          JJ          185\n",
       "other                JJ          179\n",
       "car                  NN          177\n",
       "three-wheeled        JJ          171\n",
       "heavy                JJ          171\n",
       "van                  NN          169\n",
       "pick-up              JJ          169\n",
       "truck                NN          169\n",
       "occupant             VBD         168\n",
       "railway              NN          156\n",
       "passenger            NNP         153\n",
       "driver               NNP         126\n",
       "occupant             NN          120\n",
       "on                   IN          109\n",
       "                                ... \n",
       "merchant             JJ            2\n",
       "hit                  VBN           2\n",
       "rolling              NN            2\n",
       "fixed-wing           JJ            2\n",
       "derailment           NN            2\n",
       ")                    CD            1\n",
       "spacecraft           NNP           1\n",
       "nonpowered-aircraft  JJ            1\n",
       "sailboat             JJ            1\n",
       "thrown               NN            1\n",
       "private              JJ            1\n",
       "powered-glider       JJ            1\n",
       "ultralight           NNP           1\n",
       "parachutist          NNP           1\n",
       "water-skis           NNS           1\n",
       "nonpowered-aircraft  NN            1\n",
       "boat                 IN            1\n",
       "nonpowered           VBD           1\n",
       "classified           VBN           1\n",
       "helicopter           NNP           1\n",
       "hang-glider          NN            1\n",
       "ground               NN            1\n",
       "glider               NNP           1\n",
       "animal-drawn         JJ            1\n",
       "fishing              NNP           1\n",
       "elsewhere            RB            1\n",
       "balloon              NNP           1\n",
       "being                VBG           1\n",
       "commercial           JJ            1\n",
       "microlight           VBD           1\n",
       "dtype: int64"
      ]
     },
     "execution_count": 12,
     "metadata": {},
     "output_type": "execute_result"
    }
   ],
   "source": [
    "words_df.groupby(['word', 'pos_tag']).size().order(ascending=False)"
   ]
  },
  {
   "cell_type": "code",
   "execution_count": 13,
   "metadata": {
    "collapsed": false
   },
   "outputs": [],
   "source": [
    "keywords = words_df.query('pos_tag in (\"JJ\", \"NN\", \"NNP\")').groupby(['word', 'pos_tag']).size().order(ascending=False)"
   ]
  },
  {
   "cell_type": "code",
   "execution_count": 14,
   "metadata": {
    "collapsed": false
   },
   "outputs": [],
   "source": [
    "nonkeywords = words_df.query('pos_tag not in (\"JJ\", \"NN\", \"NNP\")').groupby(['word', 'pos_tag']).size().order(ascending=False)"
   ]
  },
  {
   "cell_type": "code",
   "execution_count": 15,
   "metadata": {
    "collapsed": true
   },
   "outputs": [],
   "source": [
    "keywords.to_csv(\"keywords.csv\", header=True)"
   ]
  },
  {
   "cell_type": "code",
   "execution_count": 16,
   "metadata": {
    "collapsed": true
   },
   "outputs": [],
   "source": [
    "nonkeywords.to_csv(\"nonkeywords.csv\", header=True)"
   ]
  },
  {
   "cell_type": "code",
   "execution_count": null,
   "metadata": {
    "collapsed": true
   },
   "outputs": [],
   "source": []
  }
 ],
 "metadata": {
  "kernelspec": {
   "display_name": "Python 2",
   "language": "python",
   "name": "python2"
  },
  "language_info": {
   "codemirror_mode": {
    "name": "ipython",
    "version": 2
   },
   "file_extension": ".py",
   "mimetype": "text/x-python",
   "name": "python",
   "nbconvert_exporter": "python",
   "pygments_lexer": "ipython2",
   "version": "2.7.9"
  }
 },
 "nbformat": 4,
 "nbformat_minor": 0
}
